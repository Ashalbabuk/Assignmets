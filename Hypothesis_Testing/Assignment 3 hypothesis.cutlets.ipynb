{
 "cells": [
  {
   "cell_type": "code",
   "execution_count": 1,
   "id": "a8726de7",
   "metadata": {},
   "outputs": [],
   "source": [
    "import pandas as pd\n",
    "import numpy as np\n",
    "from scipy import stats"
   ]
  },
  {
   "cell_type": "markdown",
   "id": "68455ec5",
   "metadata": {},
   "source": [
    "A F&B manager wants to determine whether there is any significant difference in the diameter of the cutlet between two units. A randomly selected sample of cutlets was collected from both units and measured? Analyze the data and draw inferences at 5% significance level. Please state the assumptions and tests that you carried out to check validity of the assumptions"
   ]
  },
  {
   "cell_type": "markdown",
   "id": "bf468826",
   "metadata": {},
   "source": [
    "### business problem"
   ]
  },
  {
   "cell_type": "markdown",
   "id": "21f39dcf",
   "metadata": {},
   "source": [
    "Is there significant difference in the diameter of the cutlet ?"
   ]
  },
  {
   "cell_type": "markdown",
   "id": "25ad37f7",
   "metadata": {},
   "source": [
    "α == 0.05 (95% Confidence)\n",
    "\n",
    "Y == Continious\n",
    "X == Discrete\n",
    "\n",
    "Is Y1 and Y2 normal ?\n",
    "\n",
    "H0 = Y1 and Y2 are normal\n",
    "H1 = Y1 and Y2 are not normal"
   ]
  },
  {
   "cell_type": "code",
   "execution_count": 5,
   "id": "3b020ba6",
   "metadata": {},
   "outputs": [
    {
     "data": {
      "text/html": [
       "<div>\n",
       "<style scoped>\n",
       "    .dataframe tbody tr th:only-of-type {\n",
       "        vertical-align: middle;\n",
       "    }\n",
       "\n",
       "    .dataframe tbody tr th {\n",
       "        vertical-align: top;\n",
       "    }\n",
       "\n",
       "    .dataframe thead th {\n",
       "        text-align: right;\n",
       "    }\n",
       "</style>\n",
       "<table border=\"1\" class=\"dataframe\">\n",
       "  <thead>\n",
       "    <tr style=\"text-align: right;\">\n",
       "      <th></th>\n",
       "      <th>Unit A</th>\n",
       "      <th>Unit B</th>\n",
       "    </tr>\n",
       "  </thead>\n",
       "  <tbody>\n",
       "    <tr>\n",
       "      <th>0</th>\n",
       "      <td>6.8090</td>\n",
       "      <td>6.7703</td>\n",
       "    </tr>\n",
       "    <tr>\n",
       "      <th>1</th>\n",
       "      <td>6.4376</td>\n",
       "      <td>7.5093</td>\n",
       "    </tr>\n",
       "    <tr>\n",
       "      <th>2</th>\n",
       "      <td>6.9157</td>\n",
       "      <td>6.7300</td>\n",
       "    </tr>\n",
       "    <tr>\n",
       "      <th>3</th>\n",
       "      <td>7.3012</td>\n",
       "      <td>6.7878</td>\n",
       "    </tr>\n",
       "    <tr>\n",
       "      <th>4</th>\n",
       "      <td>7.4488</td>\n",
       "      <td>7.1522</td>\n",
       "    </tr>\n",
       "  </tbody>\n",
       "</table>\n",
       "</div>"
      ],
      "text/plain": [
       "   Unit A  Unit B\n",
       "0  6.8090  6.7703\n",
       "1  6.4376  7.5093\n",
       "2  6.9157  6.7300\n",
       "3  7.3012  6.7878\n",
       "4  7.4488  7.1522"
      ]
     },
     "execution_count": 5,
     "metadata": {},
     "output_type": "execute_result"
    }
   ],
   "source": [
    "data = pd.read_csv(\"D:\\ExcelR\\Assigments\\Hypothesis_Testing\\Cutlets.csv\")\n",
    "data.head()"
   ]
  },
  {
   "cell_type": "markdown",
   "id": "9a985b56",
   "metadata": {},
   "source": [
    "## Normality test"
   ]
  },
  {
   "cell_type": "code",
   "execution_count": 6,
   "id": "06b5d582",
   "metadata": {},
   "outputs": [
    {
     "data": {
      "text/plain": [
       "ShapiroResult(statistic=0.9649458527565002, pvalue=0.3199819028377533)"
      ]
     },
     "execution_count": 6,
     "metadata": {},
     "output_type": "execute_result"
    }
   ],
   "source": [
    "stats.shapiro(data[\"Unit A\"])"
   ]
  },
  {
   "cell_type": "markdown",
   "id": "d81d6da7",
   "metadata": {},
   "source": [
    "P value for Unit A == 0.32 > α"
   ]
  },
  {
   "cell_type": "code",
   "execution_count": 7,
   "id": "8a7f862d",
   "metadata": {},
   "outputs": [
    {
     "data": {
      "text/plain": [
       "ShapiroResult(statistic=0.9727300405502319, pvalue=0.5224985480308533)"
      ]
     },
     "execution_count": 7,
     "metadata": {},
     "output_type": "execute_result"
    }
   ],
   "source": [
    "stats.shapiro(data[\"Unit B\"])"
   ]
  },
  {
   "cell_type": "markdown",
   "id": "31aad88a",
   "metadata": {},
   "source": [
    "P value for Unit B == 0.52 > α"
   ]
  },
  {
   "cell_type": "markdown",
   "id": "2752853b",
   "metadata": {},
   "source": [
    "### HO is accepted. Thats is both Y1 and Y2 are normal"
   ]
  },
  {
   "cell_type": "markdown",
   "id": "f6b6d4d9",
   "metadata": {},
   "source": [
    "External condition are same.Thus we can perform Paired T Test"
   ]
  },
  {
   "cell_type": "markdown",
   "id": "a558ee84",
   "metadata": {},
   "source": [
    "## Paired T test"
   ]
  },
  {
   "cell_type": "markdown",
   "id": "de240c1f",
   "metadata": {},
   "source": [
    "H0 == Mean for Y1 and Y2 are equal (There is no significance difference between diameter of the Culets)\n",
    "\n",
    "H1 == Mean for Y1 and Y2 are not equal (There is a significance difference between diameter of the Culets)"
   ]
  },
  {
   "cell_type": "code",
   "execution_count": 8,
   "id": "538d3722",
   "metadata": {},
   "outputs": [
    {
     "data": {
      "text/plain": [
       "Ttest_relResult(statistic=0.7536787225614314, pvalue=0.4562300768038412)"
      ]
     },
     "execution_count": 8,
     "metadata": {},
     "output_type": "execute_result"
    }
   ],
   "source": [
    "stats.ttest_rel(data[\"Unit A\"], data[\"Unit B\"])"
   ]
  },
  {
   "cell_type": "markdown",
   "id": "3b5e7ffc",
   "metadata": {},
   "source": [
    "### P value of the Paired T Test is == 0.45 > α"
   ]
  },
  {
   "cell_type": "markdown",
   "id": "92d0588f",
   "metadata": {},
   "source": [
    "## Thus H0 is accepted."
   ]
  },
  {
   "cell_type": "markdown",
   "id": "6f0c4526",
   "metadata": {},
   "source": [
    "Mean of both Y1 and Y2 are equal"
   ]
  },
  {
   "cell_type": "code",
   "execution_count": null,
   "id": "d436bb55",
   "metadata": {},
   "outputs": [],
   "source": []
  }
 ],
 "metadata": {
  "kernelspec": {
   "display_name": "Python 3",
   "language": "python",
   "name": "python3"
  },
  "language_info": {
   "codemirror_mode": {
    "name": "ipython",
    "version": 3
   },
   "file_extension": ".py",
   "mimetype": "text/x-python",
   "name": "python",
   "nbconvert_exporter": "python",
   "pygments_lexer": "ipython3",
   "version": "3.8.8"
  }
 },
 "nbformat": 4,
 "nbformat_minor": 5
}
