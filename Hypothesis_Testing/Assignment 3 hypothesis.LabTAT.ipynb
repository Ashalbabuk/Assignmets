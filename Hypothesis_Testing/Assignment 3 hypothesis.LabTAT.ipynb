{
 "cells": [
  {
   "cell_type": "code",
   "execution_count": 1,
   "id": "d0a0d9c8",
   "metadata": {},
   "outputs": [],
   "source": [
    "import pandas as pd\n",
    "import numpy as np\n",
    "from scipy import stats"
   ]
  },
  {
   "cell_type": "markdown",
   "id": "752aca22",
   "metadata": {},
   "source": [
    "A hospital wants to determine whether there is any difference in the average Turn Around Time (TAT) of reports of the laboratories on their preferred list. They collected a random sample and recorded TAT for reports of 4 laboratories. TAT is defined as sample collected to report dispatch\n",
    "\n",
    "Analyze the data and determine whether there is any difference in average TAT among the different laboratories at 5% significance level"
   ]
  },
  {
   "cell_type": "markdown",
   "id": "44aa6ecc",
   "metadata": {},
   "source": [
    "### Business problem"
   ]
  },
  {
   "cell_type": "markdown",
   "id": "9b50a3ff",
   "metadata": {},
   "source": [
    "Is there a significant difference in the average Turn Around Time between laboratories ?"
   ]
  },
  {
   "cell_type": "markdown",
   "id": "f5cef67c",
   "metadata": {},
   "source": [
    "α == 0.05 (95% Confidence)\n",
    "\n",
    "Y == Continious\n",
    "X == Discrete\n",
    "\n",
    "Is Y1, Y2, Y3 and Y4 normal ?\n",
    "\n",
    "H0 = Y1, Y2, Y3 and Y4 are normal\n",
    "H1 = Y1, Y2, Y3 and Y4 are not normal"
   ]
  },
  {
   "cell_type": "markdown",
   "id": "730610be",
   "metadata": {},
   "source": [
    "## Normality test"
   ]
  },
  {
   "cell_type": "code",
   "execution_count": 2,
   "id": "2f63c62d",
   "metadata": {},
   "outputs": [],
   "source": [
    "data = pd.read_csv(\"D:\\ExcelR\\Assigments\\Hypothesis_Testing\\LabTAT.csv\")"
   ]
  },
  {
   "cell_type": "code",
   "execution_count": 3,
   "id": "ab074f14",
   "metadata": {},
   "outputs": [
    {
     "data": {
      "text/plain": [
       "ShapiroResult(statistic=0.9901824593544006, pvalue=0.5506953597068787)"
      ]
     },
     "execution_count": 3,
     "metadata": {},
     "output_type": "execute_result"
    }
   ],
   "source": [
    "stats.shapiro(data[\"Laboratory 1\"])"
   ]
  },
  {
   "cell_type": "markdown",
   "id": "db8c99bd",
   "metadata": {},
   "source": [
    "P value for Laboratory 1 == 0.55 > α"
   ]
  },
  {
   "cell_type": "code",
   "execution_count": 7,
   "id": "006ff57d",
   "metadata": {},
   "outputs": [
    {
     "data": {
      "text/plain": [
       "ShapiroResult(statistic=0.9936322569847107, pvalue=0.8637524843215942)"
      ]
     },
     "execution_count": 7,
     "metadata": {},
     "output_type": "execute_result"
    }
   ],
   "source": [
    "stats.shapiro(data[\"Laboratory 2\"])"
   ]
  },
  {
   "cell_type": "markdown",
   "id": "7a4751d7",
   "metadata": {},
   "source": [
    "P value for Laboratory 1 == 0.86 > α"
   ]
  },
  {
   "cell_type": "code",
   "execution_count": 8,
   "id": "577b3181",
   "metadata": {},
   "outputs": [
    {
     "data": {
      "text/plain": [
       "ShapiroResult(statistic=0.9886345267295837, pvalue=0.4205053448677063)"
      ]
     },
     "execution_count": 8,
     "metadata": {},
     "output_type": "execute_result"
    }
   ],
   "source": [
    "stats.shapiro(data[\"Laboratory 3\"])"
   ]
  },
  {
   "cell_type": "markdown",
   "id": "abaa90b1",
   "metadata": {},
   "source": [
    "P value for Laboratory 1 == 0.42 > α"
   ]
  },
  {
   "cell_type": "code",
   "execution_count": 9,
   "id": "40116cc3",
   "metadata": {},
   "outputs": [
    {
     "data": {
      "text/plain": [
       "ShapiroResult(statistic=0.9913753271102905, pvalue=0.6618951559066772)"
      ]
     },
     "execution_count": 9,
     "metadata": {},
     "output_type": "execute_result"
    }
   ],
   "source": [
    "stats.shapiro(data[\"Laboratory 4\"])"
   ]
  },
  {
   "cell_type": "markdown",
   "id": "c1b2e2d1",
   "metadata": {},
   "source": [
    "P value for Laboratory 1 == 0.66 > α"
   ]
  },
  {
   "cell_type": "markdown",
   "id": "4ca74604",
   "metadata": {},
   "source": [
    "### HO is accepted. Thats is Y1, Y2, Y3, and Y4 are normal"
   ]
  },
  {
   "cell_type": "markdown",
   "id": "a428607a",
   "metadata": {},
   "source": [
    "## Varaince"
   ]
  },
  {
   "cell_type": "markdown",
   "id": "0ccca293",
   "metadata": {},
   "source": [
    "H0 == Variance of all 4 laboratories are the same\n",
    "\n",
    "H1 == Variance of all 4 laboratories are the not same"
   ]
  },
  {
   "cell_type": "code",
   "execution_count": 10,
   "id": "fe138aa8",
   "metadata": {},
   "outputs": [
    {
     "data": {
      "text/plain": [
       "LeveneResult(statistic=2.599642500418024, pvalue=0.05161343808309816)"
      ]
     },
     "execution_count": 10,
     "metadata": {},
     "output_type": "execute_result"
    }
   ],
   "source": [
    "stats.levene(data[\"Laboratory 1\"], data[\"Laboratory 2\"], data[\"Laboratory 3\"], data[\"Laboratory 4\"])"
   ]
  },
  {
   "cell_type": "markdown",
   "id": "2cc4fa0d",
   "metadata": {},
   "source": [
    "P Value of Variance test is == 0.051 > α"
   ]
  },
  {
   "cell_type": "markdown",
   "id": "79eff711",
   "metadata": {},
   "source": [
    "### H0 is accepted. Thus we will perform one way Anova Test"
   ]
  },
  {
   "cell_type": "markdown",
   "id": "7215622b",
   "metadata": {},
   "source": [
    "H0 == Mean TAT for 4 laboratories equal (There is no significance difference between TAT of the laboratories)\n",
    "\n",
    "H1 == Mean TAT for 4 laboratories not equal (There is a significance difference between TAT of the laboratories)"
   ]
  },
  {
   "cell_type": "code",
   "execution_count": 11,
   "id": "476b4d54",
   "metadata": {},
   "outputs": [
    {
     "data": {
      "text/plain": [
       "F_onewayResult(statistic=118.70421654401437, pvalue=2.1156708949992414e-57)"
      ]
     },
     "execution_count": 11,
     "metadata": {},
     "output_type": "execute_result"
    }
   ],
   "source": [
    "stats.stats.f_oneway(data[\"Laboratory 1\"], data[\"Laboratory 2\"], data[\"Laboratory 3\"], data[\"Laboratory 4\"])"
   ]
  },
  {
   "cell_type": "markdown",
   "id": "a626e1a6",
   "metadata": {},
   "source": [
    "P value of the One way Anova test is == 2e-16 < α"
   ]
  },
  {
   "cell_type": "markdown",
   "id": "a4a62e19",
   "metadata": {},
   "source": [
    "### H1 is accepted."
   ]
  },
  {
   "cell_type": "markdown",
   "id": "6724bdba",
   "metadata": {},
   "source": [
    "### Mean TAT for 4 laboratories not equal"
   ]
  },
  {
   "cell_type": "markdown",
   "id": "71b1324d",
   "metadata": {},
   "source": [
    "#### There is a significance difference between TAT of the laboratories"
   ]
  },
  {
   "cell_type": "code",
   "execution_count": null,
   "id": "f94ac228",
   "metadata": {},
   "outputs": [],
   "source": []
  }
 ],
 "metadata": {
  "kernelspec": {
   "display_name": "Python 3",
   "language": "python",
   "name": "python3"
  },
  "language_info": {
   "codemirror_mode": {
    "name": "ipython",
    "version": 3
   },
   "file_extension": ".py",
   "mimetype": "text/x-python",
   "name": "python",
   "nbconvert_exporter": "python",
   "pygments_lexer": "ipython3",
   "version": "3.8.8"
  }
 },
 "nbformat": 4,
 "nbformat_minor": 5
}
